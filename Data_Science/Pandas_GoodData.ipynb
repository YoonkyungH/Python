{
 "cells": [
  {
   "cell_type": "markdown",
   "metadata": {},
   "source": [
    "좋은 데이터의 기준\n",
    "\n",
    "- **완결성(Completeness)**  \n",
    " : 필수적인 데이터는 모두 기록되어 있어야 함  \n",
    " 데이터의 완결성을 아는 방법 : **결측값**(채워져야 하는데 비워져 있는 값, NaN(Not a Number))\n",
    " \n",
    "- **유일성(Uniqueness)**  \n",
    " : 동일한 데이터가 불필요하게 중복되어 있으면 안 됨  \n",
    " 이메일 인증하기, 주민등록번호 본인 확인, 휴대폰 번호 본인 확인 -> 데이터 유일성 유지\n",
    " \n",
    "- **통일성(Conformity)**  \n",
    " : 데이터가 동일한 형식으로 저장돼 있어야 함  \n",
    "  형식이란 데이터 타입, 단위, 포맷 등을 의미.\n",
    "  \n",
    "- **정확성(Accuracy)**  \n",
    " : 데이터가 정확해야 함  \n",
    " **이상점(outlier)** 다른 것들과 심하게 동떨어진 값"
   ]
  },
  {
   "cell_type": "code",
   "execution_count": null,
   "metadata": {},
   "outputs": [],
   "source": []
  }
 ],
 "metadata": {
  "kernelspec": {
   "display_name": "Python 3",
   "language": "python",
   "name": "python3"
  },
  "language_info": {
   "codemirror_mode": {
    "name": "ipython",
    "version": 3
   },
   "file_extension": ".py",
   "mimetype": "text/x-python",
   "name": "python",
   "nbconvert_exporter": "python",
   "pygments_lexer": "ipython3",
   "version": "3.8.3"
  }
 },
 "nbformat": 4,
 "nbformat_minor": 4
}
