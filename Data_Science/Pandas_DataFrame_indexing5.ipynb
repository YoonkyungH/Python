{
 "cells": [
  {
   "cell_type": "code",
   "execution_count": 5,
   "metadata": {},
   "outputs": [],
   "source": [
    "import pandas as pd"
   ]
  },
  {
   "cell_type": "code",
   "execution_count": 12,
   "metadata": {},
   "outputs": [],
   "source": [
    "ind_gr = [['하나의 row 이름', 'df.loc[\"row4\"]'],\n",
    "          ['row 이름의 리스트', 'df.loc[[\"row4\", \"row5\", \"row3\"]]'],\n",
    "          ['row 이름의 리스트 슬라이싱', 'df.loc[\"row2\":\"row5\"]', 'df[\"row2\":\"row5\"]'],\n",
    "         ['하나의 column 이름', 'df.loc[:, \"col1\"]', 'df[\"col1\"]'],\n",
    "         ['column 이름의 리스트', 'df.loc[:, [\"col4\", \"col6\", \"col3\"]]', 'df[[\"col4\", \"col6\", \"col3\"]]'],\n",
    "         ['column 이름의 리스트 슬라이싱', 'df.loc[:, \"col2\":\"col5\"]']]"
   ]
  },
  {
   "cell_type": "code",
   "execution_count": 13,
   "metadata": {},
   "outputs": [
    {
     "data": {
      "text/html": [
       "<div>\n",
       "<style scoped>\n",
       "    .dataframe tbody tr th:only-of-type {\n",
       "        vertical-align: middle;\n",
       "    }\n",
       "\n",
       "    .dataframe tbody tr th {\n",
       "        vertical-align: top;\n",
       "    }\n",
       "\n",
       "    .dataframe thead th {\n",
       "        text-align: right;\n",
       "    }\n",
       "</style>\n",
       "<table border=\"1\" class=\"dataframe\">\n",
       "  <thead>\n",
       "    <tr style=\"text-align: right;\">\n",
       "      <th></th>\n",
       "      <th>이름으로 인덱싱하기</th>\n",
       "      <th>기본 형태</th>\n",
       "      <th>단축 형태</th>\n",
       "    </tr>\n",
       "  </thead>\n",
       "  <tbody>\n",
       "    <tr>\n",
       "      <th>0</th>\n",
       "      <td>하나의 row 이름</td>\n",
       "      <td>df.loc[\"row4\"]</td>\n",
       "      <td>None</td>\n",
       "    </tr>\n",
       "    <tr>\n",
       "      <th>1</th>\n",
       "      <td>row 이름의 리스트</td>\n",
       "      <td>df.loc[[\"row4\", \"row5\", \"row3\"]]</td>\n",
       "      <td>None</td>\n",
       "    </tr>\n",
       "    <tr>\n",
       "      <th>2</th>\n",
       "      <td>row 이름의 리스트 슬라이싱</td>\n",
       "      <td>df.loc[\"row2\":\"row5\"]</td>\n",
       "      <td>df[\"row2\":\"row5\"]</td>\n",
       "    </tr>\n",
       "    <tr>\n",
       "      <th>3</th>\n",
       "      <td>하나의 column 이름</td>\n",
       "      <td>df.loc[:, \"col1\"]</td>\n",
       "      <td>df[\"col1\"]</td>\n",
       "    </tr>\n",
       "    <tr>\n",
       "      <th>4</th>\n",
       "      <td>column 이름의 리스트</td>\n",
       "      <td>df.loc[:, [\"col4\", \"col6\", \"col3\"]]</td>\n",
       "      <td>df[[\"col4\", \"col6\", \"col3\"]]</td>\n",
       "    </tr>\n",
       "    <tr>\n",
       "      <th>5</th>\n",
       "      <td>column 이름의 리스트 슬라이싱</td>\n",
       "      <td>df.loc[:, \"col2\":\"col5\"]</td>\n",
       "      <td>None</td>\n",
       "    </tr>\n",
       "  </tbody>\n",
       "</table>\n",
       "</div>"
      ],
      "text/plain": [
       "            이름으로 인덱싱하기                                기본 형태  \\\n",
       "0           하나의 row 이름                       df.loc[\"row4\"]   \n",
       "1          row 이름의 리스트     df.loc[[\"row4\", \"row5\", \"row3\"]]   \n",
       "2     row 이름의 리스트 슬라이싱                df.loc[\"row2\":\"row5\"]   \n",
       "3        하나의 column 이름                    df.loc[:, \"col1\"]   \n",
       "4       column 이름의 리스트  df.loc[:, [\"col4\", \"col6\", \"col3\"]]   \n",
       "5  column 이름의 리스트 슬라이싱             df.loc[:, \"col2\":\"col5\"]   \n",
       "\n",
       "                          단축 형태  \n",
       "0                          None  \n",
       "1                          None  \n",
       "2             df[\"row2\":\"row5\"]  \n",
       "3                    df[\"col1\"]  \n",
       "4  df[[\"col4\", \"col6\", \"col3\"]]  \n",
       "5                          None  "
      ]
     },
     "execution_count": 13,
     "metadata": {},
     "output_type": "execute_result"
    }
   ],
   "source": [
    "my_df = pd.DataFrame(ind_gr, columns=['이름으로 인덱싱하기', '기본 형태', '단축 형태'])\n",
    "my_df"
   ]
  },
  {
   "cell_type": "code",
   "execution_count": 14,
   "metadata": {},
   "outputs": [],
   "source": [
    "ind_gr2 = [['하나의 row 위치', 'df.iloc[8]'],\n",
    "          ['row 위치의 리스트', 'df.iloc[[4, 5, 3]]'],\n",
    "          ['row 위치의 리스트 슬라이싱', 'df.iloc[2:5]', 'df[2:5]']]"
   ]
  },
  {
   "cell_type": "code",
   "execution_count": 15,
   "metadata": {},
   "outputs": [
    {
     "data": {
      "text/html": [
       "<div>\n",
       "<style scoped>\n",
       "    .dataframe tbody tr th:only-of-type {\n",
       "        vertical-align: middle;\n",
       "    }\n",
       "\n",
       "    .dataframe tbody tr th {\n",
       "        vertical-align: top;\n",
       "    }\n",
       "\n",
       "    .dataframe thead th {\n",
       "        text-align: right;\n",
       "    }\n",
       "</style>\n",
       "<table border=\"1\" class=\"dataframe\">\n",
       "  <thead>\n",
       "    <tr style=\"text-align: right;\">\n",
       "      <th></th>\n",
       "      <th>위치로 인덱싱하기</th>\n",
       "      <th>기본 형태</th>\n",
       "      <th>단축 형태</th>\n",
       "    </tr>\n",
       "  </thead>\n",
       "  <tbody>\n",
       "    <tr>\n",
       "      <th>0</th>\n",
       "      <td>하나의 row 위치</td>\n",
       "      <td>df.iloc[8]</td>\n",
       "      <td>None</td>\n",
       "    </tr>\n",
       "    <tr>\n",
       "      <th>1</th>\n",
       "      <td>row 위치의 리스트</td>\n",
       "      <td>df.iloc[[4, 5, 3]]</td>\n",
       "      <td>None</td>\n",
       "    </tr>\n",
       "    <tr>\n",
       "      <th>2</th>\n",
       "      <td>row 위치의 리스트 슬라이싱</td>\n",
       "      <td>df.iloc[2:5]</td>\n",
       "      <td>df[2:5]</td>\n",
       "    </tr>\n",
       "  </tbody>\n",
       "</table>\n",
       "</div>"
      ],
      "text/plain": [
       "          위치로 인덱싱하기               기본 형태    단축 형태\n",
       "0        하나의 row 위치          df.iloc[8]     None\n",
       "1       row 위치의 리스트  df.iloc[[4, 5, 3]]     None\n",
       "2  row 위치의 리스트 슬라이싱        df.iloc[2:5]  df[2:5]"
      ]
     },
     "execution_count": 15,
     "metadata": {},
     "output_type": "execute_result"
    }
   ],
   "source": [
    "my_df2 = pd.DataFrame(ind_gr2, columns=['위치로 인덱싱하기', '기본 형태', '단축 형태'])\n",
    "my_df2"
   ]
  }
 ],
 "metadata": {
  "kernelspec": {
   "display_name": "Python 3",
   "language": "python",
   "name": "python3"
  },
  "language_info": {
   "codemirror_mode": {
    "name": "ipython",
    "version": 3
   },
   "file_extension": ".py",
   "mimetype": "text/x-python",
   "name": "python",
   "nbconvert_exporter": "python",
   "pygments_lexer": "ipython3",
   "version": "3.8.3"
  }
 },
 "nbformat": 4,
 "nbformat_minor": 4
}
