{
 "cells": [
  {
   "cell_type": "markdown",
   "metadata": {},
   "source": [
    "**From list of lists, array of arrays, list of series**\n",
    "\n",
    "\n",
    "2차원 리스트나 2차원 numpy array로 DataFrame을 만들 수 있다. 심지어 pandas Series를 담고 있는 리스트로도 DataFrame을 만들 수 있다."
   ]
  },
  {
   "cell_type": "code",
   "execution_count": 3,
   "metadata": {},
   "outputs": [
    {
     "name": "stdout",
     "output_type": "stream",
     "text": [
      "          0   1   2\n",
      "0  dongwook  50  86\n",
      "1    sineui  89  31\n",
      "2   ikjoong  68  91\n",
      "3   yoonsoo  88  75\n"
     ]
    }
   ],
   "source": [
    "import numpy as np\n",
    "import pandas as pd\n",
    "\n",
    "two_dimensional_list = [['dongwook', 50, 86], ['sineui', 89, 31], ['ikjoong', 68, 91], ['yoonsoo', 88, 75]]\n",
    "two_dimensional_array = np.array(two_dimensional_list)\n",
    "list_of_series = [\n",
    "    pd.Series(['dongwook', 50, 86]), \n",
    "    pd.Series(['sineui', 89, 31]), \n",
    "    pd.Series(['ikjoong', 68, 91]), \n",
    "    pd.Series(['yoonsoo', 88, 75])\n",
    "]\n",
    "\n",
    "# 아래 셋은 모두 동일합니다\n",
    "df1 = pd.DataFrame(two_dimensional_list)\n",
    "df2 = pd.DataFrame(two_dimensional_array)\n",
    "df3 = pd.DataFrame(list_of_series)\n",
    "\n",
    "print(df1)"
   ]
  },
  {
   "cell_type": "markdown",
   "metadata": {},
   "source": [
    "**From dict of lists, dict of arrays, dict of series**\n",
    "\n",
    "\n",
    "파이썬 사전(dictionary)으로도 DataFrame을 만들 수 있다. 사전의 key로는 column이름을 쓰고, 그 column에 해당하는 리스트, numpy array, 혹은 pandas Series를 사전의 value로 넣어주면 된다."
   ]
  },
  {
   "cell_type": "code",
   "execution_count": 4,
   "metadata": {},
   "outputs": [
    {
     "name": "stdout",
     "output_type": "stream",
     "text": [
      "       name  english_score  math_score\n",
      "0  dongwook             50          86\n",
      "1    sineui             89          31\n",
      "2   ikjoong             68          91\n",
      "3   yoonsoo             88          75\n"
     ]
    }
   ],
   "source": [
    "import numpy as np\n",
    "import pandas as pd\n",
    "\n",
    "names = ['dongwook', 'sineui', 'ikjoong', 'yoonsoo']\n",
    "english_scores = [50, 89, 68, 88]\n",
    "math_scores = [86, 31, 91, 75]\n",
    "\n",
    "dict1 = {\n",
    "    'name': names, \n",
    "    'english_score': english_scores, \n",
    "    'math_score': math_scores\n",
    "}\n",
    "\n",
    "dict2 = {\n",
    "    'name': np.array(names), \n",
    "    'english_score': np.array(english_scores), \n",
    "    'math_score': np.array(math_scores)\n",
    "}\n",
    "\n",
    "dict3 = {\n",
    "    'name': pd.Series(names), \n",
    "    'english_score': pd.Series(english_scores), \n",
    "    'math_score': pd.Series(math_scores)\n",
    "}\n",
    "\n",
    "\n",
    "# 아래 셋은 모두 동일합니다\n",
    "df1 = pd.DataFrame(dict1)\n",
    "df2 = pd.DataFrame(dict2)\n",
    "df3 = pd.DataFrame(dict3)\n",
    "\n",
    "print(df1)"
   ]
  },
  {
   "cell_type": "code",
   "execution_count": null,
   "metadata": {},
   "outputs": [],
   "source": [
    "**From list of dicts**\n",
    "\n",
    "리스트가 담긴 사전이 아니라, 사전이 담긴 리스트로도 DataFrame을 만들 수 있음"
   ]
  }
 ],
 "metadata": {
  "kernelspec": {
   "display_name": "Python 3",
   "language": "python",
   "name": "python3"
  },
  "language_info": {
   "codemirror_mode": {
    "name": "ipython",
    "version": 3
   },
   "file_extension": ".py",
   "mimetype": "text/x-python",
   "name": "python",
   "nbconvert_exporter": "python",
   "pygments_lexer": "ipython3",
   "version": "3.8.3"
  }
 },
 "nbformat": 4,
 "nbformat_minor": 4
}
