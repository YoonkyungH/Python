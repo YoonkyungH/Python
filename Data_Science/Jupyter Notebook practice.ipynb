{
 "cells": [
  {
   "cell_type": "markdown",
   "metadata": {},
   "source": [
    "# 가장 큰 제목\n",
    "## 두 번째 큰 제목\n",
    "### 세 번째 큰 제목\n",
    "\n",
    "이렇게 글 작성 가능합니다."
   ]
  },
  {
   "cell_type": "markdown",
   "metadata": {},
   "source": [
    "글을 **두껍게** 쓸 수도 있고, *날려* 쓸 수도 있습니다."
   ]
  },
  {
   "cell_type": "markdown",
   "metadata": {},
   "source": [
    "이렇게 리스트를 쓸 수도 있죠\n",
    "* list item 1\n",
    "* list item 2\n",
    "* list item 3"
   ]
  },
  {
   "cell_type": "markdown",
   "metadata": {},
   "source": [
    "이 글들은 **_Markdown_**으로 쓰여진 것이다.  \n",
    "**줄바꿈**은 문장 맨 끝에 스페이스 바를 두번 쳐야함.  \n",
    "**문단 바꿈**은 Enter 키를 두번 쳐야함.\n",
    "\n",
    "이탈릭체는 *별표*나 _언더바_로.\n",
    "\n",
    "볼드체는 **별표 두 개**나 __언더바 두 개__로.\n",
    "\n",
    "**별표와 _언더바_**를 섞어서.\n",
    "\n",
    "취소선은 ~~물결~~로."
   ]
  },
  {
   "cell_type": "markdown",
   "metadata": {},
   "source": [
    "코딩 강의는 역시 [코드잇](https://www.codeit.kr)"
   ]
  },
  {
   "cell_type": "markdown",
   "metadata": {},
   "source": [
    "![코드잇](https://www.codeit.kr/static/images/brand/logo_original.png)"
   ]
  },
  {
   "cell_type": "markdown",
   "metadata": {},
   "source": [
    "바로 윗줄은 **이미지**를 삽입하기 위한 줄"
   ]
  },
  {
   "cell_type": "markdown",
   "metadata": {},
   "source": [
    "```python\n",
    "print('hello world!')\n",
    "for i in range(10):\n",
    "    print(i)\n",
    "```\n",
    "print('hello world!')  \n",
    "for i in range(10):  \n",
    "    print(i)\n",
    "    \n",
    "'''으로 *코드 블록*을 추가함. 언어를 지정해줄 수도 있음"
   ]
  },
  {
   "cell_type": "markdown",
   "metadata": {},
   "source": [
    "값을 출력하고 싶으면 'print' 함수를 사용하면 되겠죠?\n",
    "\n",
    "''로 코드를 감싸면 _인라인 코드_를 쓸 수 있음"
   ]
  },
  {
   "cell_type": "markdown",
   "metadata": {},
   "source": [
    "구분 선 위\n",
    "\n",
    "---\n",
    "\n",
    "구분 선 아래\n",
    "\n",
    "---으로 구분선을 추가할 수 있음"
   ]
  }
 ],
 "metadata": {
  "kernelspec": {
   "display_name": "Python 3",
   "language": "python",
   "name": "python3"
  },
  "language_info": {
   "codemirror_mode": {
    "name": "ipython",
    "version": 3
   },
   "file_extension": ".py",
   "mimetype": "text/x-python",
   "name": "python",
   "nbconvert_exporter": "python",
   "pygments_lexer": "ipython3",
   "version": "3.8.3"
  }
 },
 "nbformat": 4,
 "nbformat_minor": 4
}
